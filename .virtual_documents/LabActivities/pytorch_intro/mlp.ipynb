








import torch
import numpy as np
import matplotlib.pyplot as plt


def noisy_xor(num_points):
    """Synthetic 2d Dataset that is not linearly separable."""
    features = np.random.randint(2, size=(num_points, 2))
    labels = np.array(np.logical_xor(features[:, 0], features[:, 1]), dtype=np.float32)
    labels = np.expand_dims(labels, 1)
    features = np.array(
        (features + (np.random.random(features.shape))) / 2.0,
        dtype=np.float32,
    )
    return features, labels


train_size = 100
X, y = noisy_xor(train_size)

# Plot the dataset
plt.plot(X[y[:, 0] == 1, 0], X[y[:, 0] == 1, 1], "s")
plt.plot(X[y[:, 0] == 0, 0], X[y[:, 0] == 0, 1], "o")
plt.show()

# Convert to tensors
X = torch.tensor(X)
y = torch.tensor(y)






def binary_cross_entropy_loss(pred, labels):
    return -torch.sum(labels * torch.log(pred) + (1.0 - labels) * torch.log(1.0 - pred))


def logistic(a):
    return 1.0 / (1.0 + torch.exp(-a))


def relu(a):
    return torch.max(a, torch.zeros_like(a))


# NOW CREATE THE PARAMETERS FOR OUR NETWORK
num_hidden = 5
W1 = torch.randn((2, num_hidden), requires_grad=True)
b1 = torch.randn((num_hidden,), requires_grad=True)
W2 = torch.randn((num_hidden, 1), requires_grad=True)
b2 = torch.randn((1,), requires_grad=True)

params = [W1, b1, W2, b2]





def forward(x, W1, b1, W2, b2):
    """Complete a forward pass through the network for input x."""
    # YOUR CODE HERE
    raise NotImplementedError()


# Code for training the network.

# YOUR CODE HERE
raise NotImplementedError()


# Testing Code

test_size = 100
X_test, y_test = noisy_xor(test_size)
X_test = torch.tensor(X_test)
y_test = torch.tensor(y_test)

correct = 0
for i in range(test_size):
    if torch.round(y_test[i, 0]) == torch.round(forward(X_test[i, :], W1, b1, W2, b2)):
        correct += 1

print("ACCURACY", correct / test_size)
assert correct / test_size > .8
