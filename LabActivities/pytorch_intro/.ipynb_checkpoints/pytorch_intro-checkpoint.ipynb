{
 "cells": [
  {
   "cell_type": "markdown",
   "metadata": {
    "deletable": false,
    "editable": false,
    "nbgrader": {
     "cell_type": "markdown",
     "checksum": "22e881384f8b39939747cfb9e3ffa9ed",
     "grade": false,
     "grade_id": "cell-5da2f4355b492276",
     "locked": true,
     "schema_version": 3,
     "solution": false,
     "task": false
    }
   },
   "source": [
    "Enter the names of all group members in the cell below:"
   ]
  },
  {
   "cell_type": "markdown",
   "metadata": {
    "deletable": false,
    "nbgrader": {
     "cell_type": "markdown",
     "checksum": "1f114eb616565ff0d10625df18c2b2e1",
     "grade": true,
     "grade_id": "names",
     "locked": false,
     "points": 1,
     "schema_version": 3,
     "solution": true,
     "task": false
    }
   },
   "source": [
    "Sayemum Hassan"
   ]
  },
  {
   "cell_type": "markdown",
   "metadata": {
    "deletable": false,
    "editable": false,
    "nbgrader": {
     "cell_type": "markdown",
     "checksum": "43d3fba04b352c6b530caa7646e976cf",
     "grade": false,
     "grade_id": "cell-499beaee246af1e9",
     "locked": true,
     "schema_version": 3,
     "solution": false,
     "task": false
    }
   },
   "source": [
    "# PyTorch Fundamentals\n",
    "\n",
    "See also: https://pytorch.org/tutorials/beginner/basics/autogradqs_tutorial.html\n",
    "\n",
    "Learning Objectives:\n",
    "\n",
    "* Gain experience with low-level PyTorch operations\n",
    "\n",
    "\n",
    "## Calculating Gradients\n",
    "\n",
    "In a previous exercise, we practiced calculating partial derivatives on the following example:\n",
    "\n",
    "$$f(x,y) = \\sqrt{x^2 + y^2}$$\n",
    "\n",
    "$$\\frac{\\partial f}{\\partial x} = \\frac{x}{\\sqrt{x^2 + y^2}}$$\n",
    "\n",
    "$$\\frac{\\partial f}{\\partial y} = \\frac{y}{\\sqrt{x^2 + y^2}}$$\n",
    "\n",
    "### Question\n",
    "Take a second to calcuate the following by hand:\n",
    "\n",
    "*   $\\displaystyle f(3, 4) = ??$\n",
    "    \n",
    "\n",
    "*   $\\displaystyle \\frac{\\partial f(3, 4)}{\\partial x} = ??$\n",
    "    \n",
    "   \n",
    "*   $\\displaystyle \\frac{\\partial f(3, 4)}{\\partial y} = ??$\n",
    "   \n"
   ]
  },
  {
   "cell_type": "markdown",
   "metadata": {
    "deletable": false,
    "nbgrader": {
     "cell_type": "markdown",
     "checksum": "d1fac21af0a91448c363e68361ba495b",
     "grade": true,
     "grade_id": "Q1",
     "locked": false,
     "points": 1,
     "schema_version": 3,
     "solution": true,
     "task": false
    }
   },
   "source": [
    "1.) 7\n",
    "2.) 3/7\n",
    "3.) 4/7"
   ]
  },
  {
   "cell_type": "markdown",
   "metadata": {
    "deletable": false,
    "editable": false,
    "nbgrader": {
     "cell_type": "markdown",
     "checksum": "3f10790b01ec1be5b05bc9975e631940",
     "grade": false,
     "grade_id": "cell-6749fed78f4d24b5",
     "locked": true,
     "schema_version": 3,
     "solution": false,
     "task": false
    }
   },
   "source": [
    "At its core, PyTorch is a library for representing mathematical operations as graphical structures and automating the process of computing partial derivatives.  We can use PyTorch to write numpy-style mathematical operations:\n"
   ]
  },
  {
   "cell_type": "code",
   "execution_count": 2,
   "metadata": {},
   "outputs": [
    {
     "name": "stdout",
     "output_type": "stream",
     "text": [
      "tensor(5.)\n"
     ]
    }
   ],
   "source": [
    "import torch\n",
    "import numpy as np\n",
    "import matplotlib.pyplot as plt\n",
    "\n",
    "def f(x, y):\n",
    "    return torch.sqrt(x**2 + y**2)\n",
    "    \n",
    "x = torch.tensor(3.0)\n",
    "y = torch.tensor(4.0)\n",
    "\n",
    "print(f(x, y))"
   ]
  },
  {
   "cell_type": "markdown",
   "metadata": {
    "deletable": false,
    "editable": false,
    "nbgrader": {
     "cell_type": "markdown",
     "checksum": "d8a5298b5df8fe12861c0a5fe9aea0a8",
     "grade": false,
     "grade_id": "cell-7ce9e132f81bc1bb",
     "locked": true,
     "schema_version": 3,
     "solution": false,
     "task": false
    }
   },
   "source": [
    "More interestingly, we can specify that PyTorch should track the partial derivatives of our calculations with respect to some tensors:"
   ]
  },
  {
   "cell_type": "code",
   "execution_count": 3,
   "metadata": {},
   "outputs": [
    {
     "name": "stdout",
     "output_type": "stream",
     "text": [
      "f(3, 4) = 5.0\n",
      "df(3, 4)/dx = 0.6\n",
      "df(3, 4)/dy = 0.8\n"
     ]
    }
   ],
   "source": [
    "x = torch.tensor(3.0, requires_grad=True)\n",
    "y = torch.tensor(4.0, requires_grad=True)\n",
    "\n",
    "fxy = f(x, y) # Evaluate the function.\n",
    "\n",
    "fxy.backward() # Calculate the partial derivatives.\n",
    "\n",
    "print(f\"f(3, 4) = {fxy:.5}\")\n",
    "print(f\"df(3, 4)/dx = {x.grad:.5}\")\n",
    "print(f\"df(3, 4)/dy = {y.grad:.5}\")"
   ]
  },
  {
   "cell_type": "markdown",
   "metadata": {
    "deletable": false,
    "editable": false,
    "nbgrader": {
     "cell_type": "markdown",
     "checksum": "f5da1745f47f6974455db61a9cc27282",
     "grade": false,
     "grade_id": "cell-fc401ce1113ed13d",
     "locked": true,
     "schema_version": 3,
     "solution": false,
     "task": false
    }
   },
   "source": [
    "Once we have the partial derivatives, we can minimize our function using gradient descent.  Use the cell below to find the x and y that minimize $f(x,y) = \\sqrt{x^2 + y^2}$.  Adjust the learning rate and the number of iterations (*not* the starting x and y values) until the code converges to something close to the minimum value for the function."
   ]
  },
  {
   "cell_type": "code",
   "execution_count": 20,
   "metadata": {},
   "outputs": [
    {
     "data": {
      "image/png": "[encoded data removed]",
      "text/plain": [
       "<Figure size 640x480 with 1 Axes>"
      ]
     },
     "metadata": {},
     "output_type": "display_data"
    },
    {
     "name": "stdout",
     "output_type": "stream",
     "text": [
      "\n",
      "Final estimate: \n",
      "f(0.023963, 0.032026) = 0.039999\n"
     ]
    }
   ],
   "source": [
    "learning_rate = .04  # ADJUST THIS!\n",
    "iterations = 150      # AND/OR THIS!\n",
    "\n",
    "x = torch.tensor(3.0, requires_grad=True)\n",
    "y = torch.tensor(4.0, requires_grad=True)\n",
    "\n",
    "losses = []\n",
    "\n",
    "for iteration in range(iterations):\n",
    "    fxy = f(x, y)\n",
    "\n",
    "    losses.append(fxy.item())\n",
    "    \n",
    "    # One step of gradient descent...\n",
    "    fxy.backward()\n",
    "    x.data = x.data - learning_rate * x.grad\n",
    "    y.data = y.data - learning_rate * y.grad\n",
    "    \n",
    "    # By default, the gradients will continue to accumulate.\n",
    "    # We need to zero it out each iteration to get a fresh result.\n",
    "    x.grad.zero_()\n",
    "    y.grad.zero_()\n",
    "\n",
    "plt.plot(losses, '.-')\n",
    "plt.xlabel(\"step\")\n",
    "plt.ylabel(\"loss\")\n",
    "plt.show()\n",
    "print(\"\\nFinal estimate: \")\n",
    "fxy = f(x, y)\n",
    "print(f\"f({x:.5}, {y:.5}) = {fxy:.5}\")\n",
    "\n",
    "    "
   ]
  },
  {
   "cell_type": "markdown",
   "metadata": {
    "deletable": false,
    "editable": false,
    "nbgrader": {
     "cell_type": "markdown",
     "checksum": "dda8c62de99ad1c33744bd158cb26d81",
     "grade": false,
     "grade_id": "cell-417184e2b0d9d66b",
     "locked": true,
     "schema_version": 3,
     "solution": false,
     "task": false
    }
   },
   "source": [
    "### Questions:\n",
    "\n",
    "* What learning rate and iteration count did you settle on? \n",
    "* Where does this function have its minimum? (Note that this is a case where we don't *need* to use gradient descent to find the solution. You should be able to determine the minimum value without executing the code above.)"
   ]
  },
  {
   "cell_type": "markdown",
   "metadata": {
    "deletable": false,
    "nbgrader": {
     "cell_type": "markdown",
     "checksum": "8c5d8ba1a4d4c60bbf81ab94fc97ec6a",
     "grade": true,
     "grade_id": "Q2",
     "locked": false,
     "points": 2,
     "schema_version": 3,
     "solution": true,
     "task": false
    }
   },
   "source": [
    "0.04 learning rate and 150 iterations. It's minimum comes from steps 125 onward with this sort of sine wave of the loss."
   ]
  },
  {
   "cell_type": "markdown",
   "metadata": {
    "deletable": false,
    "editable": false,
    "nbgrader": {
     "cell_type": "markdown",
     "checksum": "2173da6186c8291411aba41cf3a59f3b",
     "grade": false,
     "grade_id": "cell-d3974b524d5cf1b4",
     "locked": true,
     "schema_version": 3,
     "solution": false,
     "task": false
    }
   },
   "source": [
    "## Exercise\n",
    "\n",
    "Use gradient descent to minimize the following function:\n",
    "\n",
    "$$f(x, y) = \\sin(5x + 3) + x^2 + \\cos(2y + 1) +y^2$$\n",
    "\n",
    "It looks like this:\n"
   ]
  },
  {
   "cell_type": "code",
   "execution_count": 13,
   "metadata": {},
   "outputs": [
    {
     "data": {
      "image/png": "[encoded data removed]",
      "text/plain": [
       "<Figure size 640x480 with 1 Axes>"
      ]
     },
     "metadata": {},
     "output_type": "display_data"
    }
   ],
   "source": [
    "import matplotlib.pyplot as plt\n",
    "# %matplotlib notebook\n",
    "x = np.linspace(-2, 2, 100)\n",
    "y = np.linspace(-2, 2, 100)\n",
    "x, y = np.meshgrid(x, y)\n",
    "z = np.sin(5 * x + 3) + x**2 + np.cos(2 * y + 1) + y**2\n",
    "fig = plt.figure()\n",
    "ax = fig.add_subplot(111, projection='3d')\n",
    "surf = ax.plot_surface(x, y, z, cmap=plt.cm.coolwarm,\n",
    "                       linewidth=0, antialiased=False)\n",
    "ax.set_xlabel('x')\n",
    "ax.set_ylabel('y')\n",
    "plt.show()\n"
   ]
  },
  {
   "cell_type": "code",
   "execution_count": 1,
   "metadata": {
    "deletable": false,
    "nbgrader": {
     "cell_type": "code",
     "checksum": "3102c42f0902da55af08fa0975c9ebe3",
     "grade": false,
     "grade_id": "Q3",
     "locked": false,
     "schema_version": 3,
     "solution": true,
     "task": false
    }
   },
   "outputs": [
    {
     "ename": "NameError",
     "evalue": "name 'torch' is not defined",
     "output_type": "error",
     "traceback": [
      "\u001b[0;31m---------------------------------------------------------------------------\u001b[0m",
      "\u001b[0;31mNameError\u001b[0m                                 Traceback (most recent call last)",
      "Cell \u001b[0;32mIn[1], line 5\u001b[0m\n\u001b[1;32m      2\u001b[0m learning_rate \u001b[38;5;241m=\u001b[39m \u001b[38;5;241m.01\u001b[39m  \u001b[38;5;66;03m# ADJUST THIS!\u001b[39;00m\n\u001b[1;32m      3\u001b[0m iterations \u001b[38;5;241m=\u001b[39m \u001b[38;5;241m150\u001b[39m      \u001b[38;5;66;03m# AND/OR THIS!\u001b[39;00m\n\u001b[0;32m----> 5\u001b[0m x \u001b[38;5;241m=\u001b[39m \u001b[43mtorch\u001b[49m\u001b[38;5;241m.\u001b[39mtensor(\u001b[38;5;241m3.0\u001b[39m, requires_grad\u001b[38;5;241m=\u001b[39m\u001b[38;5;28;01mTrue\u001b[39;00m)\n\u001b[1;32m      6\u001b[0m y \u001b[38;5;241m=\u001b[39m torch\u001b[38;5;241m.\u001b[39mtensor(\u001b[38;5;241m4.0\u001b[39m, requires_grad\u001b[38;5;241m=\u001b[39m\u001b[38;5;28;01mTrue\u001b[39;00m)\n\u001b[1;32m      8\u001b[0m losses \u001b[38;5;241m=\u001b[39m []\n",
      "\u001b[0;31mNameError\u001b[0m: name 'torch' is not defined"
     ]
    }
   ],
   "source": [
    "# YOUR CODE HERE\n",
    "learning_rate = .01  # ADJUST THIS!\n",
    "iterations = 150      # AND/OR THIS!\n",
    "\n",
    "x = torch.tensor(3.0, requires_grad=True)\n",
    "y = torch.tensor(4.0, requires_grad=True)\n",
    "\n",
    "losses = []\n",
    "\n",
    "def f(x, y):\n",
    "    # return torch.sin(5*x + 3) + x**2 + torch.cos(2*y + 1) + y**2\n",
    "    return np.sin(5 * x + 3) + x**2 + np.cos(2 * y + 1) + y**2\n",
    "\n",
    "for iteration in range(iterations):\n",
    "    fxy = f(x, y)\n",
    "\n",
    "    losses.append(fxy.item())\n",
    "    \n",
    "    # One step of gradient descent...\n",
    "    fxy.backward()\n",
    "    x.data = x.data - learning_rate * x.grad\n",
    "    y.data = y.data - learning_rate * y.grad\n",
    "    \n",
    "    # By default, the gradients will continue to accumulate.\n",
    "    # We need to zero it out each iteration to get a fresh result.\n",
    "    x.grad.zero_()\n",
    "    y.grad.zero_()\n",
    "\n",
    "plt.plot(losses, '.-')\n",
    "plt.xlabel(\"step\")\n",
    "plt.ylabel(\"loss\")\n",
    "plt.show()\n",
    "print(\"\\nFinal estimate: \")\n",
    "fxy = f(x, y)\n",
    "print(f\"f({x:.5}, {y:.5}) = {fxy:.5}\")\n",
    "\n",
    "    "
   ]
  },
  {
   "cell_type": "code",
   "execution_count": 30,
   "metadata": {
    "deletable": false,
    "editable": false,
    "nbgrader": {
     "cell_type": "code",
     "checksum": "62b6d10ec94dcbf91a83eac2a9d26dc6",
     "grade": true,
     "grade_id": "cell-204ee6fe30d0eddb",
     "locked": true,
     "points": 6,
     "schema_version": 3,
     "solution": false,
     "task": false
    }
   },
   "outputs": [
    {
     "ename": "AssertionError",
     "evalue": "\nArrays are not almost equal to 3 decimals\n ACTUAL: tensor(2.1000)\n DESIRED: 0.317",
     "output_type": "error",
     "traceback": [
      "\u001b[0;31m---------------------------------------------------------------------------\u001b[0m",
      "\u001b[0;31mAssertionError\u001b[0m                            Traceback (most recent call last)",
      "Cell \u001b[0;32mIn[30], line 2\u001b[0m\n\u001b[1;32m      1\u001b[0m \u001b[38;5;28;01mfrom\u001b[39;00m \u001b[38;5;21;01mnumpy\u001b[39;00m\u001b[38;5;21;01m.\u001b[39;00m\u001b[38;5;21;01mtesting\u001b[39;00m \u001b[38;5;28;01mimport\u001b[39;00m assert_almost_equal\n\u001b[0;32m----> 2\u001b[0m \u001b[43massert_almost_equal\u001b[49m\u001b[43m(\u001b[49m\u001b[43mx\u001b[49m\u001b[38;5;241;43m.\u001b[39;49m\u001b[43mdata\u001b[49m\u001b[43m,\u001b[49m\u001b[43m \u001b[49m\u001b[38;5;241;43m.317\u001b[39;49m\u001b[43m,\u001b[49m\u001b[43m \u001b[49m\u001b[43mdecimal\u001b[49m\u001b[38;5;241;43m=\u001b[39;49m\u001b[38;5;241;43m3\u001b[39;49m\u001b[43m)\u001b[49m\n\u001b[1;32m      3\u001b[0m assert_almost_equal(y\u001b[38;5;241m.\u001b[39mdata, \u001b[38;5;241m.690\u001b[39m, decimal\u001b[38;5;241m=\u001b[39m\u001b[38;5;241m3\u001b[39m)\n",
      "File \u001b[0;32m/opt/anaconda3/envs/cs445/lib/python3.12/contextlib.py:81\u001b[0m, in \u001b[0;36mContextDecorator.__call__.<locals>.inner\u001b[0;34m(*args, **kwds)\u001b[0m\n\u001b[1;32m     78\u001b[0m \u001b[38;5;129m@wraps\u001b[39m(func)\n\u001b[1;32m     79\u001b[0m \u001b[38;5;28;01mdef\u001b[39;00m \u001b[38;5;21minner\u001b[39m(\u001b[38;5;241m*\u001b[39margs, \u001b[38;5;241m*\u001b[39m\u001b[38;5;241m*\u001b[39mkwds):\n\u001b[1;32m     80\u001b[0m     \u001b[38;5;28;01mwith\u001b[39;00m \u001b[38;5;28mself\u001b[39m\u001b[38;5;241m.\u001b[39m_recreate_cm():\n\u001b[0;32m---> 81\u001b[0m         \u001b[38;5;28;01mreturn\u001b[39;00m \u001b[43mfunc\u001b[49m\u001b[43m(\u001b[49m\u001b[38;5;241;43m*\u001b[39;49m\u001b[43margs\u001b[49m\u001b[43m,\u001b[49m\u001b[43m \u001b[49m\u001b[38;5;241;43m*\u001b[39;49m\u001b[38;5;241;43m*\u001b[39;49m\u001b[43mkwds\u001b[49m\u001b[43m)\u001b[49m\n",
      "File \u001b[0;32m/opt/anaconda3/envs/cs445/lib/python3.12/site-packages/numpy/testing/_private/utils.py:537\u001b[0m, in \u001b[0;36massert_almost_equal\u001b[0;34m(actual, desired, decimal, err_msg, verbose)\u001b[0m\n\u001b[1;32m    535\u001b[0m     \u001b[38;5;28;01mpass\u001b[39;00m\n\u001b[1;32m    536\u001b[0m \u001b[38;5;28;01mif\u001b[39;00m \u001b[38;5;28mabs\u001b[39m(desired \u001b[38;5;241m-\u001b[39m actual) \u001b[38;5;241m>\u001b[39m\u001b[38;5;241m=\u001b[39m np\u001b[38;5;241m.\u001b[39mfloat64(\u001b[38;5;241m1.5\u001b[39m \u001b[38;5;241m*\u001b[39m \u001b[38;5;241m10.0\u001b[39m\u001b[38;5;241m*\u001b[39m\u001b[38;5;241m*\u001b[39m(\u001b[38;5;241m-\u001b[39mdecimal)):\n\u001b[0;32m--> 537\u001b[0m     \u001b[38;5;28;01mraise\u001b[39;00m \u001b[38;5;167;01mAssertionError\u001b[39;00m(_build_err_msg())\n",
      "\u001b[0;31mAssertionError\u001b[0m: \nArrays are not almost equal to 3 decimals\n ACTUAL: tensor(2.1000)\n DESIRED: 0.317"
     ]
    }
   ],
   "source": [
    "from numpy.testing import assert_almost_equal\n",
    "assert_almost_equal(x.data, .317, decimal=3)\n",
    "assert_almost_equal(y.data, .690, decimal=3)"
   ]
  },
  {
   "cell_type": "code",
   "execution_count": null,
   "metadata": {},
   "outputs": [],
   "source": []
  }
 ],
 "metadata": {
  "kernelspec": {
   "display_name": "Python 3 (ipykernel)",
   "language": "python",
   "name": "python3"
  },
  "language_info": {
   "codemirror_mode": {
    "name": "ipython",
    "version": 3
   },
   "file_extension": ".py",
   "mimetype": "text/x-python",
   "name": "python",
   "nbconvert_exporter": "python",
   "pygments_lexer": "ipython3",
   "version": "3.12.4"
  }
 },
 "nbformat": 4,
 "nbformat_minor": 4
}
