{
 "cells": [
  {
   "cell_type": "markdown",
   "id": "3b272277-40ed-464d-b2a4-1b105abe5590",
   "metadata": {},
   "source": [
    "# CS 445 Setup Checking\n"
   ]
  },
  {
   "cell_type": "code",
   "execution_count": null,
   "id": "6827b995-d15c-4ff2-9dce-952e16454d74",
   "metadata": {
    "deletable": false,
    "editable": false,
    "nbgrader": {
     "cell_type": "code",
     "checksum": "6bffb5190fd1ecefd1ef5d246151941d",
     "grade": false,
     "grade_id": "cell-976587a4481526e5",
     "locked": true,
     "schema_version": 3,
     "solution": false,
     "task": false
    }
   },
   "outputs": [],
   "source": [
    "import torch\n",
    "import nbgrader"
   ]
  },
  {
   "cell_type": "code",
   "execution_count": null,
   "id": "119e5add-574b-4507-b029-7d7e5de9b96c",
   "metadata": {
    "deletable": false,
    "editable": false,
    "nbgrader": {
     "cell_type": "code",
     "checksum": "22029c3902676585322aa6cc3dfa7d8f",
     "grade": true,
     "grade_id": "checkVersions",
     "locked": true,
     "points": 1,
     "schema_version": 3,
     "solution": false,
     "task": false
    }
   },
   "outputs": [],
   "source": [
    "assert torch.__version__ >= '2.4.0'\n",
    "assert nbgrader.__version__ >= '0.9.0'"
   ]
  }
 ],
 "metadata": {
  "kernelspec": {
   "display_name": "Python 3 (ipykernel)",
   "language": "python",
   "name": "python3"
  },
  "language_info": {
   "codemirror_mode": {
    "name": "ipython",
    "version": 3
   },
   "file_extension": ".py",
   "mimetype": "text/x-python",
   "name": "python",
   "nbconvert_exporter": "python",
   "pygments_lexer": "ipython3",
   "version": "3.12.4"
  }
 },
 "nbformat": 4,
 "nbformat_minor": 5
}
