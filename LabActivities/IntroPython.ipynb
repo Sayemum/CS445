{
 "cells": [
  {
   "cell_type": "markdown",
   "metadata": {
    "deletable": false,
    "editable": false,
    "nbgrader": {
     "cell_type": "markdown",
     "checksum": "48060984f3522308cdedbe5865bbd136",
     "grade": false,
     "grade_id": "Intro",
     "locked": true,
     "schema_version": 3,
     "solution": false,
     "task": false
    },
    "slideshow": {
     "slide_type": ""
    },
    "tags": []
   },
   "source": [
    "# Python Coding Exercises\n",
    "Complete each of the unfinished coding exercises below.  You can check all of your answers by clicking on the \"Validate\" button at the top of this window.  If you don't see a validate button you need to activate nbgrader. **YOU MAY NOT USE AI CODING TOOLS TO GENERATE YOUR SOLUTIONS TO THESE EXERCISES**. The point of this assignment is to ensure that you have a solid understanding of the Python language.\n",
    "\n",
    "## Type Hints\n",
    "Note that the examples below make use of Python *type hints* to document expected argument and return types. For example, the first function declaration below could have been written as follows:\n",
    "\n",
    "```python\n",
    "def in_interval(x, a, b):\n",
    "    \"\"\" Return True if the number x is in the interval [a, b)\"\"\"\n",
    "```\n",
    "\n",
    "Instead, we've written:\n",
    "\n",
    "```python\n",
    "def in_interval(x: float, a: float, b: float) -> bool:\n",
    "    \"\"\" Return True if the number x is in the interval [a, b)\"\"\"\n",
    "```\n",
    "\n",
    "This is not a syntactic requirement in Python, and the Python interpreter will not enforce type hints by default. We probably won't use type hints consistently this semester, but they can be helpful when developing larger-scale Python programs.\n",
    "\n",
    "Follow the link below for more information on type hints:\n",
    "\n",
    "<https://docs.python.org/3/library/typing.html>\n",
    "\n",
    "## Name & Honor Code\n",
    "\n",
    "Enter your name in the cell below.  By doing so, you certify that this submission conforms to the JMU Honor code."
   ]
  },
  {
   "cell_type": "markdown",
   "metadata": {
    "deletable": false,
    "nbgrader": {
     "cell_type": "markdown",
     "checksum": "dc7ac7a1b3b40de7873711d34e89eb77",
     "grade": true,
     "grade_id": "Names",
     "locked": false,
     "points": 1,
     "schema_version": 3,
     "solution": true,
     "task": false
    }
   },
   "source": [
    "SAYEMUM HASSAN"
   ]
  },
  {
   "cell_type": "markdown",
   "metadata": {
    "deletable": false,
    "editable": false,
    "nbgrader": {
     "cell_type": "markdown",
     "checksum": "9ae27583e82e54e58490168788b69bb3",
     "grade": false,
     "grade_id": "cell-ded3609fdd8794b7",
     "locked": true,
     "schema_version": 3,
     "solution": false,
     "task": false
    }
   },
   "source": [
    "***\n",
    "## QUESTION 1"
   ]
  },
  {
   "cell_type": "code",
   "execution_count": null,
   "metadata": {
    "deletable": false,
    "nbgrader": {
     "cell_type": "code",
     "checksum": "d33c3ec63f4d23884d7705b1c8970569",
     "grade": false,
     "grade_id": "Q1",
     "locked": false,
     "schema_version": 3,
     "solution": true,
     "task": false
    }
   },
   "outputs": [],
   "source": [
    "# QUESTION 1 - Simple Logic and Arithmetic\n",
    "\n",
    "def in_interval(x: float, a: float, b: float) -> bool:\n",
    "    \"\"\" Return True if the number x is in the interval [a, b)\"\"\"\n",
    "    \n",
    "    # YOUR CODE HERE\n",
    "    #raise NotImplementedError()\n",
    "    return a <= x < b\n",
    "    "
   ]
  },
  {
   "cell_type": "code",
   "execution_count": null,
   "metadata": {
    "deletable": false,
    "editable": false,
    "nbgrader": {
     "cell_type": "code",
     "checksum": "b0316f460df81820ce0ec263b328efdc",
     "grade": true,
     "grade_id": "Q1Tests",
     "locked": true,
     "points": 4,
     "schema_version": 3,
     "solution": false,
     "task": false
    }
   },
   "outputs": [],
   "source": [
    "# TESTS FOR QUESTION 1\n",
    "\n",
    "assert in_interval(0.9, 1.0, 2.0) is False\n",
    "assert in_interval(1.0, 1.0, 2.0) is True\n",
    "assert in_interval(1.5, 1.0, 2.0) is True\n",
    "assert in_interval(2.0, 1.0, 2.0) is False\n",
    "assert in_interval(2.1, 1.0, 2.0) is False\n",
    "assert in_interval(0.5, 0.5, 0.5) is False\n",
    "assert in_interval(0.5, 0.5, 0.6) is True"
   ]
  },
  {
   "cell_type": "markdown",
   "metadata": {
    "deletable": false,
    "editable": false,
    "nbgrader": {
     "cell_type": "markdown",
     "checksum": "74e61af0ccc33051733296c17cbaba9f",
     "grade": false,
     "grade_id": "cell-6c8a828359222d23",
     "locked": true,
     "schema_version": 3,
     "solution": false,
     "task": false
    }
   },
   "source": [
    "***\n",
    "## QUESTION 2"
   ]
  },
  {
   "cell_type": "code",
   "execution_count": null,
   "metadata": {
    "deletable": false,
    "nbgrader": {
     "cell_type": "code",
     "checksum": "3d541c19255e1ad21b16b0e16b4fe04e",
     "grade": false,
     "grade_id": "Q2",
     "locked": false,
     "schema_version": 3,
     "solution": true,
     "task": false
    }
   },
   "outputs": [],
   "source": [
    "# Question 2 - Simple Lists and Strings\n",
    "\n",
    "from typing import List\n",
    "\n",
    "def string_lengths(strings: List[str]) -> List[int]:\n",
    "    \"\"\" Return a list containing the lengths of the strings in the provided list.\n",
    "        \n",
    "        >>> string_lengths([\"House\", \"Car\", \"Tree\"])\n",
    "        [5, 3, 4]\n",
    "    \"\"\"\n",
    "    # YOUR CODE HERE\n",
    "    #raise NotImplementedError()\n",
    "    return [len(string) for string in strings]"
   ]
  },
  {
   "cell_type": "code",
   "execution_count": null,
   "metadata": {
    "deletable": false,
    "editable": false,
    "nbgrader": {
     "cell_type": "code",
     "checksum": "8e0e986bfb0bfb1facfeba3fa509b528",
     "grade": true,
     "grade_id": "Q2Tests",
     "locked": true,
     "points": 5,
     "schema_version": 3,
     "solution": false,
     "task": false
    }
   },
   "outputs": [],
   "source": [
    "# TESTS FOR QUESTION 2\n",
    "\n",
    "assert string_lengths([\"House\", \"Car\", \"Tree\"]) == [5, 3, 4]\n",
    "assert string_lengths([\"House\", \"Car\", \"Tree\", \"A\"]) == [5, 3, 4, 1]\n",
    "assert string_lengths([\"Bar\"]) == [3]"
   ]
  },
  {
   "cell_type": "markdown",
   "metadata": {
    "deletable": false,
    "editable": false,
    "nbgrader": {
     "cell_type": "markdown",
     "checksum": "000d1f2761b00183ea2162a0404785de",
     "grade": false,
     "grade_id": "cell-d76d9c54ac5ecf7f",
     "locked": true,
     "schema_version": 3,
     "solution": false,
     "task": false
    }
   },
   "source": [
    "***\n",
    "## QUESTION 3"
   ]
  },
  {
   "cell_type": "code",
   "execution_count": null,
   "metadata": {
    "deletable": false,
    "nbgrader": {
     "cell_type": "code",
     "checksum": "62ee90b07b6f8be373cda32c18350986",
     "grade": false,
     "grade_id": "Q3",
     "locked": false,
     "schema_version": 3,
     "solution": true,
     "task": false
    }
   },
   "outputs": [],
   "source": [
    "# Question 3 - Dictionaries\n",
    "\n",
    "from typing import Dict, List\n",
    "\n",
    "def create_index(strings: List[str]) -> Dict[str, List[int]]:\n",
    "    \"\"\" Return a dictionary mapping from each distinct string in the provided list to \n",
    "    an ordered list containing the positions where it appears.\n",
    "    \n",
    "    >>> create_index([\"A\", \"B\", \"A\", \"C\"])\n",
    "    {\"A\": [0, 2], \"B\": [1], \"C\": [3]}\n",
    "    \"\"\"\n",
    "    \n",
    "    # YOUR CODE HERE\n",
    "    #raise NotImplementedError()\n",
    "    mapping = {}\n",
    "\n",
    "    for index in range(len(strings)):\n",
    "        string = strings[index]\n",
    "\n",
    "        if string in mapping:\n",
    "            mapping[string].append(index)\n",
    "        else:\n",
    "            mapping[string] = [index]\n",
    "\n",
    "    return mapping\n",
    "\n"
   ]
  },
  {
   "cell_type": "code",
   "execution_count": null,
   "metadata": {
    "deletable": false,
    "editable": false,
    "nbgrader": {
     "cell_type": "code",
     "checksum": "0fded9a02dbd8116db522726cfe544e9",
     "grade": true,
     "grade_id": "Q3Tests",
     "locked": true,
     "points": 5,
     "schema_version": 3,
     "solution": false,
     "task": false
    }
   },
   "outputs": [],
   "source": [
    "# TESTS FOR QUESTION 3\n",
    "\n",
    "assert create_index([\"A\"]) == {\"A\": [0]}\n",
    "assert create_index([\"A\", \"B\", \"A\", \"C\"]) == {\"A\": [0, 2], \"B\": [1], \"C\": [3]}\n",
    "assert create_index([\"A\", \"A\", \"A\", \"A\"]) == {\"A\": [0, 1, 2, 3]}\n",
    "assert create_index([\"House\", \"Car\", \"Cat\", \"Car\"]) == {\"House\": [0], \"Car\": [1, 3], \"Cat\": [2]}"
   ]
  },
  {
   "cell_type": "markdown",
   "metadata": {},
   "source": [
    "***\n",
    "## QUESTION 4"
   ]
  },
  {
   "cell_type": "code",
   "execution_count": 2,
   "metadata": {
    "deletable": false,
    "nbgrader": {
     "cell_type": "code",
     "checksum": "b8a81bc8d272304fab732116cc531396",
     "grade": false,
     "grade_id": "Q4",
     "locked": false,
     "schema_version": 3,
     "solution": true,
     "task": false
    }
   },
   "outputs": [
    {
     "ename": "IndentationError",
     "evalue": "expected an indented block after 'for' statement on line 19 (2090726155.py, line 21)",
     "output_type": "error",
     "traceback": [
      "\u001b[0;36m  Cell \u001b[0;32mIn[2], line 21\u001b[0;36m\u001b[0m\n\u001b[0;31m    for i in numbers:\u001b[0m\n\u001b[0m    ^\u001b[0m\n\u001b[0;31mIndentationError\u001b[0m\u001b[0;31m:\u001b[0m expected an indented block after 'for' statement on line 19\n"
     ]
    }
   ],
   "source": [
    "from typing import List\n",
    "\n",
    "def all_distances(numbers: List[float]) -> List[List[float]]:\n",
    "    \"\"\"Return a nxn two-dimensional list containing the pairwise distances\n",
    "    between all n provided numbers, where entry (i, j) contains the absolute \n",
    "    value of the difference between the i'th and j'th entry in the list.\n",
    "\n",
    "    >>> all_distances([0.0, 1.0, 3.0])\n",
    "    [[0.0, 1.0, 3.0], \n",
    "     [1.0, 0.0, 2.0], \n",
    "     [3.0, 2.0, 0.0]]\n",
    "    \n",
    "    \"\"\"\n",
    "    # YOUR CODE HERE\n",
    "    #raise NotImplementedError()\n",
    "    n = len(numbers)\n",
    "\n",
    "    # matrix = [[x] for x in range(n)]\n",
    "    matrix = [n] * n\n",
    "    #for i in range(n):\n",
    "        #new_list = [n]\n",
    "        #matrix.append()\n",
    "    \n",
    "    for i in range(n):\n",
    "        for j in range(n):\n",
    "            matrix[i][j] = abs(matrix[i] - matrix[j])\n",
    "\n",
    "    return matrix\n"
   ]
  },
  {
   "cell_type": "code",
   "execution_count": null,
   "metadata": {
    "deletable": false,
    "editable": false,
    "nbgrader": {
     "cell_type": "code",
     "checksum": "aa8816c2a8593e1d298b143d3ed2c448",
     "grade": true,
     "grade_id": "Q4Tests",
     "locked": true,
     "points": 5,
     "schema_version": 3,
     "solution": false,
     "task": false
    }
   },
   "outputs": [],
   "source": [
    "# TESTS FOR QUESTION 4\n",
    "\n",
    "assert all_distances([-0.5]) == [[0.0]]\n",
    "assert all_distances([-0.5, 0.75]) == [[0.0, 1.25], \n",
    "                                       [1.25, 0.0]]\n",
    "assert all_distances([0.0, 1.0, 3.0]) == [[0.0, 1.0, 3.0], \n",
    "                                          [1.0, 0.0, 2.0], \n",
    "                                          [3.0, 2.0, 0.0]]\n"
   ]
  },
  {
   "cell_type": "markdown",
   "metadata": {
    "deletable": false,
    "editable": false,
    "nbgrader": {
     "cell_type": "markdown",
     "checksum": "1487f1fffeedec9b9de02e20897c8b00",
     "grade": false,
     "grade_id": "cell-e152ab813cb8cf85",
     "locked": true,
     "schema_version": 3,
     "solution": false,
     "task": false
    }
   },
   "source": [
    "***\n",
    "## QUESTION 5\n",
    "\n",
    "There are many ways to solve this problem.  One approach is to store the current k-nearest\n",
    "numbers as distance/number tuples and then use the Python list sort method to sort the tuples.  By default, Python will sort first by the first entry in the tuple, then by the second. For example:"
   ]
  },
  {
   "cell_type": "code",
   "execution_count": null,
   "metadata": {},
   "outputs": [],
   "source": [
    "tuples = [(3, 1), (1, 7), (1, 2), (0, 12)]\n",
    "tuples.sort()\n",
    "print(tuples)"
   ]
  },
  {
   "cell_type": "markdown",
   "metadata": {
    "deletable": false,
    "editable": false,
    "nbgrader": {
     "cell_type": "markdown",
     "checksum": "f4437d56bbbffb7c5cfc5a095111ffde",
     "grade": false,
     "grade_id": "cell-c4e8b56ea90d7334",
     "locked": true,
     "schema_version": 3,
     "solution": false,
     "task": false
    }
   },
   "source": [
    "The resulting algorithm is $O(n \\log n)$.  There are more efficient algorithms that only require $O(n)$ time."
   ]
  },
  {
   "cell_type": "code",
   "execution_count": null,
   "metadata": {
    "deletable": false,
    "nbgrader": {
     "cell_type": "code",
     "checksum": "7d22b27812673fbd6b43fa3e352fa1a4",
     "grade": false,
     "grade_id": "Q5",
     "locked": false,
     "schema_version": 3,
     "solution": true,
     "task": false
    }
   },
   "outputs": [],
   "source": [
    "from typing import List\n",
    "\n",
    "def k_nearest(x: float, numbers: List[float], k: int=1) -> List[float]:\n",
    "    \"\"\" Return a list containing the k nearest numbers to x.  The returned\n",
    "    list must be ordered by proximity to x, with the closest number appearing\n",
    "    first.  If the length of the list of numbers is less than or equal to k, \n",
    "    then all numbers will be returned.\n",
    "    \n",
    "    >>> k_nearest(3.0, [3.0, 3.7, 27.5, -22.7, 2.9], 3)\n",
    "    [3.0, 2.9, 3.7]\n",
    "    \"\"\"\n",
    "    \n",
    "    # YOUR CODE HERE\n",
    "    raise NotImplementedError()\n"
   ]
  },
  {
   "cell_type": "code",
   "execution_count": null,
   "metadata": {
    "deletable": false,
    "editable": false,
    "nbgrader": {
     "cell_type": "code",
     "checksum": "bc2ed3343af5e31e66a10f0fbab35c47",
     "grade": true,
     "grade_id": "Q5Tests",
     "locked": true,
     "points": 5,
     "schema_version": 3,
     "solution": false,
     "task": false
    }
   },
   "outputs": [],
   "source": [
    "# TESTS FOR QUESTION 5\n",
    "\n",
    "points = [3.0, 3.7, 27.5, -22.7, 2.9]\n",
    "\n",
    "assert k_nearest(3.0, points, 3) == [3.0, 2.9, 3.7]\n",
    "assert k_nearest(3.0, points) == [3.0]\n",
    "assert k_nearest(3.0, points, 2) == [3.0, 2.9]\n",
    "assert k_nearest(-30.0, points, 3) == [-22.7, 2.9, 3.0]\n",
    "assert k_nearest(1000.0, points, 100) == [27.5, 3.7, 3.0, 2.9, -22.7]\n"
   ]
  }
 ],
 "metadata": {
  "kernelspec": {
   "display_name": "Python 3 (ipykernel)",
   "language": "python",
   "name": "python3"
  },
  "language_info": {
   "codemirror_mode": {
    "name": "ipython",
    "version": 3
   },
   "file_extension": ".py",
   "mimetype": "text/x-python",
   "name": "python",
   "nbconvert_exporter": "python",
   "pygments_lexer": "ipython3",
   "version": "3.12.4"
  }
 },
 "nbformat": 4,
 "nbformat_minor": 4
}
